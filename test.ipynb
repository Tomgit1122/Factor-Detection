{
 "cells": [
  {
   "cell_type": "code",
   "id": "initial_id",
   "metadata": {
    "collapsed": true,
    "ExecuteTime": {
     "end_time": "2025-07-24T14:19:37.198570Z",
     "start_time": "2025-07-24T14:19:36.574013Z"
    }
   },
   "source": [
    "import polars as pl\n",
    "import numpy as np\n",
    "from datetime import datetime,timedelta\n",
    "    from scipy.stats import skew, kurtosis"
   ],
   "outputs": [],
   "execution_count": 42
  },
  {
   "metadata": {
    "ExecuteTime": {
     "end_time": "2025-07-24T14:06:00.857879Z",
     "start_time": "2025-07-24T14:06:00.817986Z"
    }
   },
   "cell_type": "code",
   "source": [
    "data = pl.read_parquet('test.parquet')\n",
    "data"
   ],
   "id": "cabc0b056585cc3c",
   "outputs": [
    {
     "data": {
      "text/plain": [
       "shape: (425_800, 7)\n",
       "┌───────┬────────────┬──────────────┬──────────────┬──────────────┬──────────────┬─────────┐\n",
       "│ code  ┆ date       ┆ open         ┆ high         ┆ low          ┆ close        ┆ volume  │\n",
       "│ ---   ┆ ---        ┆ ---          ┆ ---          ┆ ---          ┆ ---          ┆ ---     │\n",
       "│ i32   ┆ date       ┆ f64          ┆ f64          ┆ f64          ┆ f64          ┆ i32     │\n",
       "╞═══════╪════════════╪══════════════╪══════════════╪══════════════╪══════════════╪═════════╡\n",
       "│ 139   ┆ 2005-01-03 ┆ 196.303346   ┆ 201.579617   ┆ 193.957671   ┆ 198.052344   ┆ 4845545 │\n",
       "│ 139   ┆ 2005-01-04 ┆ 201.291188   ┆ 203.907249   ┆ 196.85356    ┆ 201.024511   ┆ 1665324 │\n",
       "│ 139   ┆ 2005-01-05 ┆ 203.822877   ┆ 204.5694     ┆ 199.43191    ┆ 202.489505   ┆ 5144678 │\n",
       "│ 139   ┆ 2005-01-06 ┆ 205.577968   ┆ 209.473182   ┆ 199.693323   ┆ 205.407583   ┆ 1257428 │\n",
       "│ 139   ┆ 2005-01-10 ┆ 197.220564   ┆ 202.567173   ┆ 192.748399   ┆ 196.875319   ┆ 3472705 │\n",
       "│ …     ┆ …          ┆ …            ┆ …            ┆ …            ┆ …            ┆ …       │\n",
       "│ 98380 ┆ 2025-05-20 ┆ 24230.491595 ┆ 24763.152159 ┆ 23843.208541 ┆ 24374.28064  ┆ 6394214 │\n",
       "│ 98380 ┆ 2025-05-21 ┆ 24778.660901 ┆ 25180.883122 ┆ 24622.180278 ┆ 24885.010751 ┆ 4265126 │\n",
       "│ 98380 ┆ 2025-05-22 ┆ 25623.015354 ┆ 26097.546318 ┆ 25167.413061 ┆ 25823.065523 ┆ 1353757 │\n",
       "│ 98380 ┆ 2025-05-26 ┆ 26409.222829 ┆ 27150.415425 ┆ 26281.507671 ┆ 26603.632756 ┆ 6436615 │\n",
       "│ 98380 ┆ 2025-05-27 ┆ 26513.249965 ┆ 27417.558336 ┆ 26155.470788 ┆ 26677.170982 ┆ 8443256 │\n",
       "└───────┴────────────┴──────────────┴──────────────┴──────────────┴──────────────┴─────────┘"
      ],
      "text/html": [
       "<div><style>\n",
       ".dataframe > thead > tr,\n",
       ".dataframe > tbody > tr {\n",
       "  text-align: right;\n",
       "  white-space: pre-wrap;\n",
       "}\n",
       "</style>\n",
       "<small>shape: (425_800, 7)</small><table border=\"1\" class=\"dataframe\"><thead><tr><th>code</th><th>date</th><th>open</th><th>high</th><th>low</th><th>close</th><th>volume</th></tr><tr><td>i32</td><td>date</td><td>f64</td><td>f64</td><td>f64</td><td>f64</td><td>i32</td></tr></thead><tbody><tr><td>139</td><td>2005-01-03</td><td>196.303346</td><td>201.579617</td><td>193.957671</td><td>198.052344</td><td>4845545</td></tr><tr><td>139</td><td>2005-01-04</td><td>201.291188</td><td>203.907249</td><td>196.85356</td><td>201.024511</td><td>1665324</td></tr><tr><td>139</td><td>2005-01-05</td><td>203.822877</td><td>204.5694</td><td>199.43191</td><td>202.489505</td><td>5144678</td></tr><tr><td>139</td><td>2005-01-06</td><td>205.577968</td><td>209.473182</td><td>199.693323</td><td>205.407583</td><td>1257428</td></tr><tr><td>139</td><td>2005-01-10</td><td>197.220564</td><td>202.567173</td><td>192.748399</td><td>196.875319</td><td>3472705</td></tr><tr><td>&hellip;</td><td>&hellip;</td><td>&hellip;</td><td>&hellip;</td><td>&hellip;</td><td>&hellip;</td><td>&hellip;</td></tr><tr><td>98380</td><td>2025-05-20</td><td>24230.491595</td><td>24763.152159</td><td>23843.208541</td><td>24374.28064</td><td>6394214</td></tr><tr><td>98380</td><td>2025-05-21</td><td>24778.660901</td><td>25180.883122</td><td>24622.180278</td><td>24885.010751</td><td>4265126</td></tr><tr><td>98380</td><td>2025-05-22</td><td>25623.015354</td><td>26097.546318</td><td>25167.413061</td><td>25823.065523</td><td>1353757</td></tr><tr><td>98380</td><td>2025-05-26</td><td>26409.222829</td><td>27150.415425</td><td>26281.507671</td><td>26603.632756</td><td>6436615</td></tr><tr><td>98380</td><td>2025-05-27</td><td>26513.249965</td><td>27417.558336</td><td>26155.470788</td><td>26677.170982</td><td>8443256</td></tr></tbody></table></div>"
      ]
     },
     "execution_count": 31,
     "metadata": {},
     "output_type": "execute_result"
    }
   ],
   "execution_count": 31
  },
  {
   "metadata": {
    "ExecuteTime": {
     "end_time": "2025-07-24T14:11:20.565162Z",
     "start_time": "2025-07-24T14:11:20.541548Z"
    }
   },
   "cell_type": "code",
   "source": [
    "factor = pl.read_parquet('factor.parquet')\n",
    "factor_name = 'factor_name'\n",
    "factor"
   ],
   "id": "1e5acca1e94ecdd0",
   "outputs": [
    {
     "data": {
      "text/plain": [
       "shape: (425_800, 3)\n",
       "┌───────┬────────────┬─────────────┐\n",
       "│ code  ┆ date       ┆ factor_name │\n",
       "│ ---   ┆ ---        ┆ ---         │\n",
       "│ i32   ┆ date       ┆ f64         │\n",
       "╞═══════╪════════════╪═════════════╡\n",
       "│ 139   ┆ 2005-01-03 ┆ 0.061016    │\n",
       "│ 139   ┆ 2005-01-04 ┆ 0.297761    │\n",
       "│ 139   ┆ 2005-01-05 ┆ 0.608341    │\n",
       "│ 139   ┆ 2005-01-06 ┆ 0.037301    │\n",
       "│ 139   ┆ 2005-01-10 ┆ 0.533844    │\n",
       "│ …     ┆ …          ┆ …           │\n",
       "│ 98380 ┆ 2025-05-20 ┆ 0.717559    │\n",
       "│ 98380 ┆ 2025-05-21 ┆ 0.939378    │\n",
       "│ 98380 ┆ 2025-05-22 ┆ 0.535352    │\n",
       "│ 98380 ┆ 2025-05-26 ┆ 0.983696    │\n",
       "│ 98380 ┆ 2025-05-27 ┆ 0.595204    │\n",
       "└───────┴────────────┴─────────────┘"
      ],
      "text/html": [
       "<div><style>\n",
       ".dataframe > thead > tr,\n",
       ".dataframe > tbody > tr {\n",
       "  text-align: right;\n",
       "  white-space: pre-wrap;\n",
       "}\n",
       "</style>\n",
       "<small>shape: (425_800, 3)</small><table border=\"1\" class=\"dataframe\"><thead><tr><th>code</th><th>date</th><th>factor_name</th></tr><tr><td>i32</td><td>date</td><td>f64</td></tr></thead><tbody><tr><td>139</td><td>2005-01-03</td><td>0.061016</td></tr><tr><td>139</td><td>2005-01-04</td><td>0.297761</td></tr><tr><td>139</td><td>2005-01-05</td><td>0.608341</td></tr><tr><td>139</td><td>2005-01-06</td><td>0.037301</td></tr><tr><td>139</td><td>2005-01-10</td><td>0.533844</td></tr><tr><td>&hellip;</td><td>&hellip;</td><td>&hellip;</td></tr><tr><td>98380</td><td>2025-05-20</td><td>0.717559</td></tr><tr><td>98380</td><td>2025-05-21</td><td>0.939378</td></tr><tr><td>98380</td><td>2025-05-22</td><td>0.535352</td></tr><tr><td>98380</td><td>2025-05-26</td><td>0.983696</td></tr><tr><td>98380</td><td>2025-05-27</td><td>0.595204</td></tr></tbody></table></div>"
      ]
     },
     "execution_count": 33,
     "metadata": {},
     "output_type": "execute_result"
    }
   ],
   "execution_count": 33
  },
  {
   "metadata": {
    "ExecuteTime": {
     "end_time": "2025-07-24T14:21:06.994449Z",
     "start_time": "2025-07-24T14:21:06.964751Z"
    }
   },
   "cell_type": "code",
   "source": [
    "#第一步：排序因子值然后计算因子的波动方差分布等统计指标\n",
    "factor_ = factor.clone().sort(['code','date'])\n",
    "#总样本的指标\n",
    "values = factor_.select(pl.col(factor_name)).to_series()\n",
    "total = pl.DataFrame({\n",
    "    \"stat\": [\"factor_name\", \"mean\", \"var (ddof=1)\", \"std (ddof=1)\",'information ratio','skewness','kurtosis(excess)'    ],\n",
    "    \"value\": [\n",
    "        factor_name,\n",
    "        values.mean(),\n",
    "        values.var(ddof=1),\n",
    "        values.std(ddof=1),\n",
    "        values.mean()/values.std(ddof=1),\n",
    "        values.skew(),\n",
    "        values.kurtosis()\n",
    "        \n",
    "    ]\n",
    "},strict=False)\n"
   ],
   "id": "a77a46fdd556a436",
   "outputs": [],
   "execution_count": 45
  },
  {
   "metadata": {
    "ExecuteTime": {
     "end_time": "2025-07-24T14:21:09.448234Z",
     "start_time": "2025-07-24T14:21:09.428997Z"
    }
   },
   "cell_type": "code",
   "source": "total",
   "id": "a93ccdb36de10e78",
   "outputs": [
    {
     "data": {
      "text/plain": [
       "shape: (7, 2)\n",
       "┌───────────────────┬─────────────┐\n",
       "│ stat              ┆ value       │\n",
       "│ ---               ┆ ---         │\n",
       "│ str               ┆ str         │\n",
       "╞═══════════════════╪═════════════╡\n",
       "│ factor_name       ┆ factor_name │\n",
       "│ mean              ┆ 0.500449    │\n",
       "│ var (ddof=1)      ┆ 0.083189    │\n",
       "│ std (ddof=1)      ┆ 0.288426    │\n",
       "│ information ratio ┆ 1.735104    │\n",
       "│ skewness          ┆ -0.002468   │\n",
       "│ kurtosis(excess)  ┆ -1.200246   │\n",
       "└───────────────────┴─────────────┘"
      ],
      "text/html": [
       "<div><style>\n",
       ".dataframe > thead > tr,\n",
       ".dataframe > tbody > tr {\n",
       "  text-align: right;\n",
       "  white-space: pre-wrap;\n",
       "}\n",
       "</style>\n",
       "<small>shape: (7, 2)</small><table border=\"1\" class=\"dataframe\"><thead><tr><th>stat</th><th>value</th></tr><tr><td>str</td><td>str</td></tr></thead><tbody><tr><td>&quot;factor_name&quot;</td><td>&quot;factor_name&quot;</td></tr><tr><td>&quot;mean&quot;</td><td>&quot;0.500449&quot;</td></tr><tr><td>&quot;var (ddof=1)&quot;</td><td>&quot;0.083189&quot;</td></tr><tr><td>&quot;std (ddof=1)&quot;</td><td>&quot;0.288426&quot;</td></tr><tr><td>&quot;information ratio&quot;</td><td>&quot;1.735104&quot;</td></tr><tr><td>&quot;skewness&quot;</td><td>&quot;-0.002468&quot;</td></tr><tr><td>&quot;kurtosis(excess)&quot;</td><td>&quot;-1.200246&quot;</td></tr></tbody></table></div>"
      ]
     },
     "execution_count": 46,
     "metadata": {},
     "output_type": "execute_result"
    }
   ],
   "execution_count": 46
  }
 ],
 "metadata": {
  "kernelspec": {
   "display_name": "Python 3",
   "language": "python",
   "name": "python3"
  },
  "language_info": {
   "codemirror_mode": {
    "name": "ipython",
    "version": 2
   },
   "file_extension": ".py",
   "mimetype": "text/x-python",
   "name": "python",
   "nbconvert_exporter": "python",
   "pygments_lexer": "ipython2",
   "version": "2.7.6"
  }
 },
 "nbformat": 4,
 "nbformat_minor": 5
}
